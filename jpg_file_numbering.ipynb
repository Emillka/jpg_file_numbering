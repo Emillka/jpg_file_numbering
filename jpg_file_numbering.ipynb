{
  "nbformat": 4,
  "nbformat_minor": 0,
  "metadata": {
    "colab": {
      "provenance": [],
      "authorship_tag": "ABX9TyPGy9+nx1gNFjKmy9PFPnQx",
      "include_colab_link": true
    },
    "kernelspec": {
      "name": "python3",
      "display_name": "Python 3"
    },
    "language_info": {
      "name": "python"
    }
  },
  "cells": [
    {
      "cell_type": "markdown",
      "metadata": {
        "id": "view-in-github",
        "colab_type": "text"
      },
      "source": [
        "<a href=\"https://colab.research.google.com/github/Emillka/jpg_file_numbering/blob/main/jpg_file_numbering.ipynb\" target=\"_parent\"><img src=\"https://colab.research.google.com/assets/colab-badge.svg\" alt=\"Open In Colab\"/></a>"
      ]
    },
    {
      "cell_type": "code",
      "execution_count": null,
      "metadata": {
        "id": "LbEejueJBXB5"
      },
      "outputs": [],
      "source": [
        "import os\n",
        "\n",
        "def zmien_nazwy_zdjec(sciezka_katalogu):\n",
        "\n",
        "    if not os.path.exists(sciezka_katalogu):\n",
        "        print(\"Podana ścieżka katalogu nie istnieje.\")\n",
        "        return\n",
        "\n",
        "    lista_plikow = os.listdir(sciezka_katalogu)\n",
        "\n",
        "    lista_plikow.sort()\n",
        "\n",
        "\n",
        "    numeracja = 1\n",
        "\n",
        "    for stary_nazwa in lista_plikow:\n",
        "\n",
        "        nowa_nazwa = f\"{numeracja}.jpg\"\n",
        "\n",
        "\n",
        "        stara_sciezka = os.path.join(sciezka_katalogu, stary_nazwa)\n",
        "        nowa_sciezka = os.path.join(sciezka_katalogu, nowa_nazwa)\n",
        "\n",
        "\n",
        "        os.rename(stara_sciezka, nowa_sciezka)\n",
        "\n",
        "\n",
        "        numeracja += 1\n",
        "\n",
        "    print(\"Zmieniono nazwy plików.\")\n",
        "\n",
        "\n",
        "sciezka_katalogu = \"tu wpisać ścieżkę do katalogu\"\n",
        "zmien_nazwy_zdjec(sciezka_katalogu)\n"
      ]
    }
  ]
}